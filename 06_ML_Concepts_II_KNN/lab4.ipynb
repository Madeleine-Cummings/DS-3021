{
 "cells": [
  {
   "cell_type": "code",
   "execution_count": null,
   "metadata": {},
   "outputs": [],
   "source": []
  },
  {
   "cell_type": "markdown",
   "metadata": {},
   "source": [
    "# Lab 4\n",
    "## By Madeleine Cummings"
   ]
  },
  {
   "cell_type": "markdown",
   "metadata": {},
   "source": [
    "## Q0 \n",
    "\n",
    "### 1. What makes a model “linear”? “Linear” in what?\n",
    "\n",
    "A model is linear when its line of best fit or prediction model is linear meaning that it follows the y = mx + b structure.  If there is any additional factors being taken into account say X, it gets added on like y = mx + aX + b.  There are no multiplicities on the model.  It is linear in the relationship between the independent variables and the output variable. \n",
    "\n",
    "### 2. How do you interpret the coefficient for a dummy/one-hot-encoded variable? (This is a trick question, and the trick involves how you handle the intercept of the model.) There’s further explanation at the end of this document, if needed.\n",
    "\n",
    "The coefficient refers to how much the dummy/one-hot-encoded variable will effect the model.  Because it is either 1 or 0, you want to see how much it will change the model by if it is true, and if it will only change it a little you would choose a smaller coefficient and if it is a bigger difference you would choose a larger coefficient.  So by looking at the amount of the coefficient you can see how important that variable is to the model and how much it can change the model by. \n",
    "\n",
    "### 3. Can linear regression be used for classification? Explain why, or why not.\n",
    "\n",
    "In theory it could be used for classification but not well.  For say a one hot encoded variable the options are 1 or 0, a linear regression model would provide us with a multitude of outputs not just one or zero so we would have to create a manual cutoff to where we can classify it as a one or zero.  For example if we got an output of 0.4  we could make that 0 and if we got 0.6 we could make that 1 if we made the cutoff at 0.5. However, this would not really be a good way of going about it because you technically cannot have anything in between each category, instead it either is or is not apart of that category.\n",
    "\n",
    "### 4. If you have a high accuracy on training but low on testing, what might be the problem? It’s also possible you’ll see a pattern in the residuals.\n",
    "\n",
    "If the model works really well on training but bad on testing then the model is likely overfit.  This means that it will work great on the training model as it specifically is fitted to that but bad on any other data as it does not take into account the randomness that comes from other data.  While it would be nice if our real life data perfect matched our training data, that is  not the case meaning an overfitted model will not preform well when tested. \n",
    "\n",
    "### 5. Review this page: Non-Linear with Linear What are two ways to incorporate nonlinear relationships between your target/response/dependent/outcome variable y and your features/control/response/independent variables x?\n",
    "\n",
    "One of the ways you can handle it is by using polynomial regression.  By using higher degrees you can create curves in your model that will better reflect linearity limitation of the model.  \n",
    "\n",
    "Another way that you can handle it is with decision tree regression.  By not having an equation that represents the cline and instead connecting many smaller linear lines, there can be many lines of best fit that all work together to create a more accurate line of best fit.  \n",
    "\n",
    "### 6. What is the interpretation of the intercept? A slope coefficient for a variable? The coefficient for a dummy/one-hot-encoded variable?\n",
    "\n",
    "The intercept refers to what our dependent variable (y) will be when every independent variable is 0.  \n",
    "\n",
    "The slope coefficient refers to how much the dependent variable will change by for every one unit change in that independent variable x. \n",
    "\n",
    "The coefficient for a dummy/one hot encoded variable represents how much the dependent variable (y) changes by the dummy variable is present (meaning it is a 1).  \n",
    "\n",
    "\n",
    "\n",
    "\n"
   ]
  },
  {
   "cell_type": "markdown",
   "metadata": {},
   "source": [
    " ## Q2"
   ]
  },
  {
   "cell_type": "code",
   "execution_count": 2,
   "metadata": {},
   "outputs": [],
   "source": [
    "import pandas as pd\n",
    "from pandas import read_csv, Series, DataFrame\n",
    "from sklearn.model_selection import train_test_split\n",
    "from sklearn.linear_model import LinearRegression\n",
    "from sklearn.metrics import r2_score, mean_squared_error, mean_absolute_error\n",
    "import numpy as np\n",
    "import statsmodels\n",
    "import plotly.express as px\n",
    "import seaborn as sns\n",
    "import matplotlib.pyplot as plt\n"
   ]
  },
  {
   "cell_type": "code",
   "execution_count": 3,
   "metadata": {},
   "outputs": [],
   "source": [
    "from pandas import read_csv"
   ]
  },
  {
   "cell_type": "code",
   "execution_count": 4,
   "metadata": {},
   "outputs": [
    {
     "data": {
      "text/html": [
       "<div>\n",
       "<style scoped>\n",
       "    .dataframe tbody tr th:only-of-type {\n",
       "        vertical-align: middle;\n",
       "    }\n",
       "\n",
       "    .dataframe tbody tr th {\n",
       "        vertical-align: top;\n",
       "    }\n",
       "\n",
       "    .dataframe thead th {\n",
       "        text-align: right;\n",
       "    }\n",
       "</style>\n",
       "<table border=\"1\" class=\"dataframe\">\n",
       "  <thead>\n",
       "    <tr style=\"text-align: right;\">\n",
       "      <th></th>\n",
       "      <th>Price</th>\n",
       "      <th>Review Scores Rating</th>\n",
       "      <th>Neighbourhood</th>\n",
       "      <th>Property Type</th>\n",
       "      <th>Room Type</th>\n",
       "    </tr>\n",
       "  </thead>\n",
       "  <tbody>\n",
       "    <tr>\n",
       "      <th>0</th>\n",
       "      <td>549</td>\n",
       "      <td>96.0</td>\n",
       "      <td>Manhattan</td>\n",
       "      <td>Apartment</td>\n",
       "      <td>Private room</td>\n",
       "    </tr>\n",
       "    <tr>\n",
       "      <th>1</th>\n",
       "      <td>149</td>\n",
       "      <td>100.0</td>\n",
       "      <td>Brooklyn</td>\n",
       "      <td>Apartment</td>\n",
       "      <td>Entire home/apt</td>\n",
       "    </tr>\n",
       "    <tr>\n",
       "      <th>2</th>\n",
       "      <td>250</td>\n",
       "      <td>100.0</td>\n",
       "      <td>Manhattan</td>\n",
       "      <td>Apartment</td>\n",
       "      <td>Entire home/apt</td>\n",
       "    </tr>\n",
       "    <tr>\n",
       "      <th>3</th>\n",
       "      <td>90</td>\n",
       "      <td>94.0</td>\n",
       "      <td>Brooklyn</td>\n",
       "      <td>Apartment</td>\n",
       "      <td>Private room</td>\n",
       "    </tr>\n",
       "    <tr>\n",
       "      <th>4</th>\n",
       "      <td>270</td>\n",
       "      <td>90.0</td>\n",
       "      <td>Manhattan</td>\n",
       "      <td>Apartment</td>\n",
       "      <td>Entire home/apt</td>\n",
       "    </tr>\n",
       "  </tbody>\n",
       "</table>\n",
       "</div>"
      ],
      "text/plain": [
       "   Price  Review Scores Rating Neighbourhood  Property Type        Room Type\n",
       "0    549                  96.0      Manhattan     Apartment     Private room\n",
       "1    149                 100.0       Brooklyn     Apartment  Entire home/apt\n",
       "2    250                 100.0      Manhattan     Apartment  Entire home/apt\n",
       "3     90                  94.0       Brooklyn     Apartment     Private room\n",
       "4    270                  90.0      Manhattan     Apartment  Entire home/apt"
      ]
     },
     "execution_count": 4,
     "metadata": {},
     "output_type": "execute_result"
    }
   ],
   "source": [
    "\n",
    "rent = pd.read_csv(\"https://raw.githubusercontent.com/DS3001/linearRegression/refs/heads/main/data/Q1_clean.csv\")\n",
    "\n",
    "rent.head()"
   ]
  },
  {
   "cell_type": "markdown",
   "metadata": {},
   "source": [
    "### 1. Compute the average prices and scores by Neighborhood ; which borough is the most expensive on average? Create a kernel density plot of price and log price, grouping by Neighborhood ."
   ]
  },
  {
   "cell_type": "code",
   "execution_count": 5,
   "metadata": {},
   "outputs": [
    {
     "name": "stdout",
     "output_type": "stream",
     "text": [
      "                     Price  Review Scores Rating\n",
      "Neighbourhood                                   \n",
      "Bronx            75.276498             91.654378\n",
      "Brooklyn        127.747378             92.363497\n",
      "Manhattan       183.664286             91.801496\n",
      "Queens           96.857233             91.549057\n",
      "Staten Island   146.166667             90.843750\n"
     ]
    }
   ],
   "source": [
    "the_avg = rent.groupby('Neighbourhood ')[['Price', 'Review Scores Rating']].mean()\n",
    "\n",
    "print(the_avg)\n"
   ]
  },
  {
   "cell_type": "markdown",
   "metadata": {},
   "source": [
    "Manhattan is the most expensive neighborhood on average. "
   ]
  },
  {
   "cell_type": "code",
   "execution_count": 6,
   "metadata": {},
   "outputs": [
    {
     "data": {
      "text/plain": [
       "<Axes: xlabel='Price', ylabel='Density'>"
      ]
     },
     "execution_count": 6,
     "metadata": {},
     "output_type": "execute_result"
    },
    {
     "data": {
      "image/png": "[encoded data removed]",
      "text/plain": [
       "<Figure size 640x480 with 1 Axes>"
      ]
     },
     "metadata": {},
     "output_type": "display_data"
    }
   ],
   "source": [
    "# Showing the individual KDE plot of price \n",
    "sns.kdeplot(rent, x = \"Price\", hue=\"Neighbourhood \", fill=True)\n",
    "\n"
   ]
  },
  {
   "cell_type": "code",
   "execution_count": 7,
   "metadata": {},
   "outputs": [
    {
     "data": {
      "text/plain": [
       "<Axes: xlabel='Log_Price', ylabel='Density'>"
      ]
     },
     "execution_count": 7,
     "metadata": {},
     "output_type": "execute_result"
    },
    {
     "data": {
      "image/png": "[encoded data removed]",
      "text/plain": [
       "<Figure size 640x480 with 1 Axes>"
      ]
     },
     "metadata": {},
     "output_type": "display_data"
    }
   ],
   "source": [
    "# Showing just the log price KDE Plot\n",
    "rent['Log_Price'] = np.log(rent['Price'])\n",
    "sns.kdeplot(rent, x = \"Log_Price\", hue=\"Neighbourhood \", fill=True)\n"
   ]
  },
  {
   "cell_type": "code",
   "execution_count": 8,
   "metadata": {},
   "outputs": [
    {
     "data": {
      "image/png": "[encoded data removed]",
      "text/plain": [
       "<Figure size 640x480 with 1 Axes>"
      ]
     },
     "metadata": {},
     "output_type": "display_data"
    }
   ],
   "source": [
    "# Showing the KDE plot of log price and price together \n",
    "\n",
    "sns.kdeplot(rent, x = \"Price\", hue=\"Neighbourhood \", fill=True)\n",
    "sns.kdeplot(rent, x = \"Log_Price\", hue=\"Neighbourhood \", fill=True)\n",
    "\n",
    "\n",
    "# I made the axis's smaller so that way we can better \n",
    "# see that both log price and price are plotted\n",
    "plt.xlim(0, 200)\n",
    "plt.ylim(0, 0.3)\n",
    "plt.show()"
   ]
  },
  {
   "cell_type": "markdown",
   "metadata": {},
   "source": [
    "### 2. Regress price on Neighborhood by creating the appropriate dummy/one-hot-encoded variables, without an intercept in the linear model. Compare the coefficients in the regression to the table from part 1. What pattern do you see? What are the coefficients in a regression of a continuous variable on one categorical variable?"
   ]
  },
  {
   "cell_type": "code",
   "execution_count": 9,
   "metadata": {},
   "outputs": [
    {
     "data": {
      "text/html": [
       "<div>\n",
       "<style scoped>\n",
       "    .dataframe tbody tr th:only-of-type {\n",
       "        vertical-align: middle;\n",
       "    }\n",
       "\n",
       "    .dataframe tbody tr th {\n",
       "        vertical-align: top;\n",
       "    }\n",
       "\n",
       "    .dataframe thead th {\n",
       "        text-align: right;\n",
       "    }\n",
       "</style>\n",
       "<table border=\"1\" class=\"dataframe\">\n",
       "  <thead>\n",
       "    <tr style=\"text-align: right;\">\n",
       "      <th></th>\n",
       "      <th>Price</th>\n",
       "      <th>Review Scores Rating</th>\n",
       "      <th>Neighbourhood</th>\n",
       "      <th>Property Type</th>\n",
       "      <th>Room Type</th>\n",
       "      <th>Log_Price</th>\n",
       "      <th>Manhattan</th>\n",
       "      <th>Brooklyn</th>\n",
       "      <th>Queens</th>\n",
       "      <th>Bronx</th>\n",
       "      <th>Staten Island</th>\n",
       "    </tr>\n",
       "  </thead>\n",
       "  <tbody>\n",
       "    <tr>\n",
       "      <th>0</th>\n",
       "      <td>549</td>\n",
       "      <td>96.0</td>\n",
       "      <td>Manhattan</td>\n",
       "      <td>Apartment</td>\n",
       "      <td>Private room</td>\n",
       "      <td>6.308098</td>\n",
       "      <td>1</td>\n",
       "      <td>0</td>\n",
       "      <td>0</td>\n",
       "      <td>0</td>\n",
       "      <td>0</td>\n",
       "    </tr>\n",
       "    <tr>\n",
       "      <th>1</th>\n",
       "      <td>149</td>\n",
       "      <td>100.0</td>\n",
       "      <td>Brooklyn</td>\n",
       "      <td>Apartment</td>\n",
       "      <td>Entire home/apt</td>\n",
       "      <td>5.003946</td>\n",
       "      <td>0</td>\n",
       "      <td>1</td>\n",
       "      <td>0</td>\n",
       "      <td>0</td>\n",
       "      <td>0</td>\n",
       "    </tr>\n",
       "    <tr>\n",
       "      <th>2</th>\n",
       "      <td>250</td>\n",
       "      <td>100.0</td>\n",
       "      <td>Manhattan</td>\n",
       "      <td>Apartment</td>\n",
       "      <td>Entire home/apt</td>\n",
       "      <td>5.521461</td>\n",
       "      <td>1</td>\n",
       "      <td>0</td>\n",
       "      <td>0</td>\n",
       "      <td>0</td>\n",
       "      <td>0</td>\n",
       "    </tr>\n",
       "    <tr>\n",
       "      <th>3</th>\n",
       "      <td>90</td>\n",
       "      <td>94.0</td>\n",
       "      <td>Brooklyn</td>\n",
       "      <td>Apartment</td>\n",
       "      <td>Private room</td>\n",
       "      <td>4.499810</td>\n",
       "      <td>0</td>\n",
       "      <td>1</td>\n",
       "      <td>0</td>\n",
       "      <td>0</td>\n",
       "      <td>0</td>\n",
       "    </tr>\n",
       "    <tr>\n",
       "      <th>4</th>\n",
       "      <td>270</td>\n",
       "      <td>90.0</td>\n",
       "      <td>Manhattan</td>\n",
       "      <td>Apartment</td>\n",
       "      <td>Entire home/apt</td>\n",
       "      <td>5.598422</td>\n",
       "      <td>1</td>\n",
       "      <td>0</td>\n",
       "      <td>0</td>\n",
       "      <td>0</td>\n",
       "      <td>0</td>\n",
       "    </tr>\n",
       "  </tbody>\n",
       "</table>\n",
       "</div>"
      ],
      "text/plain": [
       "   Price  Review Scores Rating Neighbourhood  Property Type        Room Type  \\\n",
       "0    549                  96.0      Manhattan     Apartment     Private room   \n",
       "1    149                 100.0       Brooklyn     Apartment  Entire home/apt   \n",
       "2    250                 100.0      Manhattan     Apartment  Entire home/apt   \n",
       "3     90                  94.0       Brooklyn     Apartment     Private room   \n",
       "4    270                  90.0      Manhattan     Apartment  Entire home/apt   \n",
       "\n",
       "   Log_Price  Manhattan  Brooklyn  Queens  Bronx  Staten Island  \n",
       "0   6.308098          1         0       0      0              0  \n",
       "1   5.003946          0         1       0      0              0  \n",
       "2   5.521461          1         0       0      0              0  \n",
       "3   4.499810          0         1       0      0              0  \n",
       "4   5.598422          1         0       0      0              0  "
      ]
     },
     "execution_count": 9,
     "metadata": {},
     "output_type": "execute_result"
    }
   ],
   "source": [
    "# One Hot encoding everything\n",
    "\n",
    "rents = rent\n",
    "rents['Manhattan'] = rents['Neighbourhood '].apply(lambda x: 1 if x == \"Manhattan\"  else 0)\n",
    "rents['Brooklyn'] = rents['Neighbourhood '].apply(lambda x: 1 if x == \"Brooklyn\"  else 0)\n",
    "rents['Queens'] = rents['Neighbourhood '].apply(lambda x: 1 if x == \"Queens\"  else 0)\n",
    "rents['Bronx'] = rents['Neighbourhood '].apply(lambda x: 1 if x == \"Bronx\"  else 0)\n",
    "rents['Staten Island'] = rents['Neighbourhood '].apply(lambda x: 1 if x == \"Staten Island\"  else 0)\n",
    "# have to not include one of the dummy variables with intercept \n",
    "\n",
    "rents.head()"
   ]
  },
  {
   "cell_type": "code",
   "execution_count": 10,
   "metadata": {},
   "outputs": [
    {
     "data": {
      "text/plain": [
       "array([183.66428632, 127.74737834,  96.8572327 ,  75.2764977 ])"
      ]
     },
     "execution_count": 10,
     "metadata": {},
     "output_type": "execute_result"
    }
   ],
   "source": [
    "# Finding the Coefficients \n",
    "\n",
    "X = rents[[\"Manhattan\", \"Brooklyn\", \"Queens\", \"Bronx\"]]\n",
    "y = rents[\"Price\"]\n",
    "\n",
    "model = LinearRegression(fit_intercept=False) \n",
    "model.fit(X, y)\n",
    "coefficients = model.coef_\n",
    "\n",
    "coefficients"
   ]
  },
  {
   "cell_type": "code",
   "execution_count": 11,
   "metadata": {},
   "outputs": [
    {
     "name": "stdout",
     "output_type": "stream",
     "text": [
      "                     Price  Review Scores Rating\n",
      "Neighbourhood                                   \n",
      "Bronx            75.276498             91.654378\n",
      "Brooklyn        127.747378             92.363497\n",
      "Manhattan       183.664286             91.801496\n",
      "Queens           96.857233             91.549057\n",
      "Staten Island   146.166667             90.843750\n"
     ]
    }
   ],
   "source": [
    "print(the_avg)"
   ]
  },
  {
   "cell_type": "markdown",
   "metadata": {},
   "source": [
    "The coefficients given to us by the model, seem to be almost the exact same as the average price of each neighborhood.  So the coefficients in a regression of continous variable on one categorical variable just represents the average of the continous variable in that category. "
   ]
  },
  {
   "cell_type": "markdown",
   "metadata": {},
   "source": [
    "### 3. Repeat part 2, but leave an intercept in the linear model. How do you have to handle the creation of the dummies differently? What is the intercept? Interpret the coefficients. How can I get the coefficients in part 2 from these new coefficients?\n",
    "\n",
    "With the intercept we can include all of our dummy variables in our model while without it we had to drop one. "
   ]
  },
  {
   "cell_type": "code",
   "execution_count": 12,
   "metadata": {},
   "outputs": [
    {
     "data": {
      "text/html": [
       "<div>\n",
       "<style scoped>\n",
       "    .dataframe tbody tr th:only-of-type {\n",
       "        vertical-align: middle;\n",
       "    }\n",
       "\n",
       "    .dataframe tbody tr th {\n",
       "        vertical-align: top;\n",
       "    }\n",
       "\n",
       "    .dataframe thead th {\n",
       "        text-align: right;\n",
       "    }\n",
       "</style>\n",
       "<table border=\"1\" class=\"dataframe\">\n",
       "  <thead>\n",
       "    <tr style=\"text-align: right;\">\n",
       "      <th></th>\n",
       "      <th>Price</th>\n",
       "      <th>Review Scores Rating</th>\n",
       "      <th>Neighbourhood</th>\n",
       "      <th>Property Type</th>\n",
       "      <th>Room Type</th>\n",
       "      <th>Log_Price</th>\n",
       "      <th>Manhattan</th>\n",
       "      <th>Brooklyn</th>\n",
       "      <th>Queens</th>\n",
       "      <th>Bronx</th>\n",
       "      <th>Staten Island</th>\n",
       "    </tr>\n",
       "  </thead>\n",
       "  <tbody>\n",
       "    <tr>\n",
       "      <th>0</th>\n",
       "      <td>549</td>\n",
       "      <td>96.0</td>\n",
       "      <td>Manhattan</td>\n",
       "      <td>Apartment</td>\n",
       "      <td>Private room</td>\n",
       "      <td>6.308098</td>\n",
       "      <td>1</td>\n",
       "      <td>0</td>\n",
       "      <td>0</td>\n",
       "      <td>0</td>\n",
       "      <td>0</td>\n",
       "    </tr>\n",
       "    <tr>\n",
       "      <th>1</th>\n",
       "      <td>149</td>\n",
       "      <td>100.0</td>\n",
       "      <td>Brooklyn</td>\n",
       "      <td>Apartment</td>\n",
       "      <td>Entire home/apt</td>\n",
       "      <td>5.003946</td>\n",
       "      <td>0</td>\n",
       "      <td>1</td>\n",
       "      <td>0</td>\n",
       "      <td>0</td>\n",
       "      <td>0</td>\n",
       "    </tr>\n",
       "    <tr>\n",
       "      <th>2</th>\n",
       "      <td>250</td>\n",
       "      <td>100.0</td>\n",
       "      <td>Manhattan</td>\n",
       "      <td>Apartment</td>\n",
       "      <td>Entire home/apt</td>\n",
       "      <td>5.521461</td>\n",
       "      <td>1</td>\n",
       "      <td>0</td>\n",
       "      <td>0</td>\n",
       "      <td>0</td>\n",
       "      <td>0</td>\n",
       "    </tr>\n",
       "    <tr>\n",
       "      <th>3</th>\n",
       "      <td>90</td>\n",
       "      <td>94.0</td>\n",
       "      <td>Brooklyn</td>\n",
       "      <td>Apartment</td>\n",
       "      <td>Private room</td>\n",
       "      <td>4.499810</td>\n",
       "      <td>0</td>\n",
       "      <td>1</td>\n",
       "      <td>0</td>\n",
       "      <td>0</td>\n",
       "      <td>0</td>\n",
       "    </tr>\n",
       "    <tr>\n",
       "      <th>4</th>\n",
       "      <td>270</td>\n",
       "      <td>90.0</td>\n",
       "      <td>Manhattan</td>\n",
       "      <td>Apartment</td>\n",
       "      <td>Entire home/apt</td>\n",
       "      <td>5.598422</td>\n",
       "      <td>1</td>\n",
       "      <td>0</td>\n",
       "      <td>0</td>\n",
       "      <td>0</td>\n",
       "      <td>0</td>\n",
       "    </tr>\n",
       "  </tbody>\n",
       "</table>\n",
       "</div>"
      ],
      "text/plain": [
       "   Price  Review Scores Rating Neighbourhood  Property Type        Room Type  \\\n",
       "0    549                  96.0      Manhattan     Apartment     Private room   \n",
       "1    149                 100.0       Brooklyn     Apartment  Entire home/apt   \n",
       "2    250                 100.0      Manhattan     Apartment  Entire home/apt   \n",
       "3     90                  94.0       Brooklyn     Apartment     Private room   \n",
       "4    270                  90.0      Manhattan     Apartment  Entire home/apt   \n",
       "\n",
       "   Log_Price  Manhattan  Brooklyn  Queens  Bronx  Staten Island  \n",
       "0   6.308098          1         0       0      0              0  \n",
       "1   5.003946          0         1       0      0              0  \n",
       "2   5.521461          1         0       0      0              0  \n",
       "3   4.499810          0         1       0      0              0  \n",
       "4   5.598422          1         0       0      0              0  "
      ]
     },
     "execution_count": 12,
     "metadata": {},
     "output_type": "execute_result"
    }
   ],
   "source": [
    "rents1 = rent\n",
    "rents1['Manhattan'] = rents1['Neighbourhood '].apply(lambda x: 1 if x == \"Manhattan\"  else 0)\n",
    "rents1['Brooklyn'] = rents1['Neighbourhood '].apply(lambda x: 1 if x == \"Brooklyn\"  else 0)\n",
    "rents1['Queens'] = rents1['Neighbourhood '].apply(lambda x: 1 if x == \"Queens\"  else 0)\n",
    "rents1['Bronx'] = rents1['Neighbourhood '].apply(lambda x: 1 if x == \"Bronx\"  else 0)\n",
    "rents1['Staten Island'] = rents1['Neighbourhood '].apply(lambda x: 1 if x == \"Staten Island\"  else 0)\n",
    "\n",
    "rents1.head()"
   ]
  },
  {
   "cell_type": "code",
   "execution_count": 13,
   "metadata": {},
   "outputs": [
    {
     "name": "stdout",
     "output_type": "stream",
     "text": [
      "125.9424123463574\n",
      "[ 57.72187398   1.804966   -29.08517964 -50.66591465  20.22425432]\n"
     ]
    }
   ],
   "source": [
    "X = rents[[\"Manhattan\", \"Brooklyn\", \"Queens\", \"Bronx\", \"Staten Island\"]]\n",
    "y = rents[\"Price\"]\n",
    "\n",
    "model = LinearRegression(fit_intercept=True) \n",
    "model.fit(X, y)\n",
    "coefficients = model.coef_\n",
    "intercept = model.intercept_\n",
    "\n",
    "print(intercept)\n",
    "print(coefficients)"
   ]
  },
  {
   "cell_type": "markdown",
   "metadata": {},
   "source": [
    "#### 3. Written answers\n",
    "With the intercept we can include all of our dummy variables in our model while without it we had to drop one. The intercept is 125.94, the coefficients represent how different the average price for that neighborhood is compared to the intercept.  For example, Manhattan has a coefficient of 57 because its average price is 57 + 125.  You can get the previous coefficients by doing the intercept + the current coefficients."
   ]
  },
  {
   "cell_type": "markdown",
   "metadata": {},
   "source": [
    "### 4. Split the sample 80/20 into a training and a test set. Run a regression of Price on Review Scores Rating and Neighborhood . What is the R^2 and RMSE on the test set? What is the coefficient on Review Scores Rating? What is the most expensive kind of property you can rent?"
   ]
  },
  {
   "cell_type": "code",
   "execution_count": 14,
   "metadata": {},
   "outputs": [
    {
     "name": "stdout",
     "output_type": "stream",
     "text": [
      "0.045925883817350965\n",
      "140.91821103729345\n",
      "[  1.21185178  66.88899912  11.03141665 -20.32598065 -40.52455366\n",
      " -17.06988147]\n"
     ]
    }
   ],
   "source": [
    "y = rents[\"Price\"]\n",
    "X = rents[[\"Review Scores Rating\", \"Manhattan\", \"Brooklyn\", \"Queens\", \"Bronx\", \"Staten Island\"]]\n",
    "\n",
    "X_train, X_test, y_train, y_test = train_test_split(X, y, test_size=0.2, random_state=42)\n",
    "model = LinearRegression()\n",
    "model.fit(X_train, y_train)\n",
    "\n",
    "y_pred = model.predict(X_test)\n",
    "\n",
    "r2 = r2_score(y_test, y_pred)\n",
    "# rmse = np.sqrt((np.sum((y_test - y_pred)**2))/)\n",
    "rmse = np.sqrt(mean_squared_error(y_test, y_pred))\n",
    "print(r2)\n",
    "print(rmse)\n",
    "coefficients = model.coef_\n",
    "print (coefficients)\n"
   ]
  },
  {
   "cell_type": "code",
   "execution_count": 15,
   "metadata": {},
   "outputs": [
    {
     "name": "stdout",
     "output_type": "stream",
     "text": [
      "                      Price\n",
      "Property Type              \n",
      "Apartment        153.928470\n",
      "Bed & Breakfast  103.095588\n",
      "Boat             153.333333\n",
      "Bungalow         143.666667\n",
      "Cabin            165.000000\n",
      "Camper/RV         66.666667\n",
      "Castle           150.000000\n",
      "Chalet            99.000000\n",
      "Condominium      241.229167\n",
      "Dorm              65.545455\n",
      "House            147.142399\n",
      "Hut               50.000000\n",
      "Lighthouse        39.000000\n",
      "Loft             203.571912\n",
      "Other            178.928571\n",
      "Townhouse        214.253012\n",
      "Treehouse        167.666667\n",
      "Villa            154.000000\n"
     ]
    }
   ],
   "source": [
    "# finding most expensive property type\n",
    "\n",
    "the_avg1 = rent.groupby('Property Type')[['Price']].mean()\n",
    "\n",
    "print(the_avg1)"
   ]
  },
  {
   "cell_type": "markdown",
   "metadata": {},
   "source": [
    "The R^2 is 0.045925883817350965\n",
    "\n",
    "The RMSE is 140.91821103729345\n",
    "\n",
    "The coefficient on Review Scores Rating is 1.21185178.\n",
    "\n",
    "The most expensive property you can rent is a condominium. "
   ]
  },
  {
   "cell_type": "markdown",
   "metadata": {},
   "source": [
    "### 5. Run a regression of Price on Review Scores Rating and Neighborhood and Property Type. What is the R^2 and RMSE on the test set? What is the coefficient on Review Scores Rating? What is the most expensive kind of property you can rent?"
   ]
  },
  {
   "cell_type": "code",
   "execution_count": 16,
   "metadata": {},
   "outputs": [
    {
     "data": {
      "text/html": [
       "<div>\n",
       "<style scoped>\n",
       "    .dataframe tbody tr th:only-of-type {\n",
       "        vertical-align: middle;\n",
       "    }\n",
       "\n",
       "    .dataframe tbody tr th {\n",
       "        vertical-align: top;\n",
       "    }\n",
       "\n",
       "    .dataframe thead th {\n",
       "        text-align: right;\n",
       "    }\n",
       "</style>\n",
       "<table border=\"1\" class=\"dataframe\">\n",
       "  <thead>\n",
       "    <tr style=\"text-align: right;\">\n",
       "      <th></th>\n",
       "      <th>Price</th>\n",
       "      <th>Review Scores Rating</th>\n",
       "      <th>Neighbourhood</th>\n",
       "      <th>Property Type</th>\n",
       "      <th>Room Type</th>\n",
       "      <th>Log_Price</th>\n",
       "      <th>Manhattan</th>\n",
       "      <th>Brooklyn</th>\n",
       "      <th>Queens</th>\n",
       "      <th>Bronx</th>\n",
       "      <th>...</th>\n",
       "      <th>Condominium</th>\n",
       "      <th>Dorm</th>\n",
       "      <th>House</th>\n",
       "      <th>Hut</th>\n",
       "      <th>Lighthouse</th>\n",
       "      <th>Loft</th>\n",
       "      <th>Other</th>\n",
       "      <th>Townhouse</th>\n",
       "      <th>Treehouse</th>\n",
       "      <th>Villa</th>\n",
       "    </tr>\n",
       "  </thead>\n",
       "  <tbody>\n",
       "    <tr>\n",
       "      <th>0</th>\n",
       "      <td>549</td>\n",
       "      <td>96.0</td>\n",
       "      <td>Manhattan</td>\n",
       "      <td>Apartment</td>\n",
       "      <td>Private room</td>\n",
       "      <td>6.308098</td>\n",
       "      <td>1</td>\n",
       "      <td>0</td>\n",
       "      <td>0</td>\n",
       "      <td>0</td>\n",
       "      <td>...</td>\n",
       "      <td>False</td>\n",
       "      <td>False</td>\n",
       "      <td>False</td>\n",
       "      <td>False</td>\n",
       "      <td>False</td>\n",
       "      <td>False</td>\n",
       "      <td>False</td>\n",
       "      <td>False</td>\n",
       "      <td>False</td>\n",
       "      <td>False</td>\n",
       "    </tr>\n",
       "    <tr>\n",
       "      <th>1</th>\n",
       "      <td>149</td>\n",
       "      <td>100.0</td>\n",
       "      <td>Brooklyn</td>\n",
       "      <td>Apartment</td>\n",
       "      <td>Entire home/apt</td>\n",
       "      <td>5.003946</td>\n",
       "      <td>0</td>\n",
       "      <td>1</td>\n",
       "      <td>0</td>\n",
       "      <td>0</td>\n",
       "      <td>...</td>\n",
       "      <td>False</td>\n",
       "      <td>False</td>\n",
       "      <td>False</td>\n",
       "      <td>False</td>\n",
       "      <td>False</td>\n",
       "      <td>False</td>\n",
       "      <td>False</td>\n",
       "      <td>False</td>\n",
       "      <td>False</td>\n",
       "      <td>False</td>\n",
       "    </tr>\n",
       "    <tr>\n",
       "      <th>2</th>\n",
       "      <td>250</td>\n",
       "      <td>100.0</td>\n",
       "      <td>Manhattan</td>\n",
       "      <td>Apartment</td>\n",
       "      <td>Entire home/apt</td>\n",
       "      <td>5.521461</td>\n",
       "      <td>1</td>\n",
       "      <td>0</td>\n",
       "      <td>0</td>\n",
       "      <td>0</td>\n",
       "      <td>...</td>\n",
       "      <td>False</td>\n",
       "      <td>False</td>\n",
       "      <td>False</td>\n",
       "      <td>False</td>\n",
       "      <td>False</td>\n",
       "      <td>False</td>\n",
       "      <td>False</td>\n",
       "      <td>False</td>\n",
       "      <td>False</td>\n",
       "      <td>False</td>\n",
       "    </tr>\n",
       "    <tr>\n",
       "      <th>3</th>\n",
       "      <td>90</td>\n",
       "      <td>94.0</td>\n",
       "      <td>Brooklyn</td>\n",
       "      <td>Apartment</td>\n",
       "      <td>Private room</td>\n",
       "      <td>4.499810</td>\n",
       "      <td>0</td>\n",
       "      <td>1</td>\n",
       "      <td>0</td>\n",
       "      <td>0</td>\n",
       "      <td>...</td>\n",
       "      <td>False</td>\n",
       "      <td>False</td>\n",
       "      <td>False</td>\n",
       "      <td>False</td>\n",
       "      <td>False</td>\n",
       "      <td>False</td>\n",
       "      <td>False</td>\n",
       "      <td>False</td>\n",
       "      <td>False</td>\n",
       "      <td>False</td>\n",
       "    </tr>\n",
       "    <tr>\n",
       "      <th>4</th>\n",
       "      <td>270</td>\n",
       "      <td>90.0</td>\n",
       "      <td>Manhattan</td>\n",
       "      <td>Apartment</td>\n",
       "      <td>Entire home/apt</td>\n",
       "      <td>5.598422</td>\n",
       "      <td>1</td>\n",
       "      <td>0</td>\n",
       "      <td>0</td>\n",
       "      <td>0</td>\n",
       "      <td>...</td>\n",
       "      <td>False</td>\n",
       "      <td>False</td>\n",
       "      <td>False</td>\n",
       "      <td>False</td>\n",
       "      <td>False</td>\n",
       "      <td>False</td>\n",
       "      <td>False</td>\n",
       "      <td>False</td>\n",
       "      <td>False</td>\n",
       "      <td>False</td>\n",
       "    </tr>\n",
       "  </tbody>\n",
       "</table>\n",
       "<p>5 rows × 28 columns</p>\n",
       "</div>"
      ],
      "text/plain": [
       "   Price  Review Scores Rating Neighbourhood  Property Type        Room Type  \\\n",
       "0    549                  96.0      Manhattan     Apartment     Private room   \n",
       "1    149                 100.0       Brooklyn     Apartment  Entire home/apt   \n",
       "2    250                 100.0      Manhattan     Apartment  Entire home/apt   \n",
       "3     90                  94.0       Brooklyn     Apartment     Private room   \n",
       "4    270                  90.0      Manhattan     Apartment  Entire home/apt   \n",
       "\n",
       "   Log_Price  Manhattan  Brooklyn  Queens  Bronx  ...  Condominium   Dorm  \\\n",
       "0   6.308098          1         0       0      0  ...        False  False   \n",
       "1   5.003946          0         1       0      0  ...        False  False   \n",
       "2   5.521461          1         0       0      0  ...        False  False   \n",
       "3   4.499810          0         1       0      0  ...        False  False   \n",
       "4   5.598422          1         0       0      0  ...        False  False   \n",
       "\n",
       "   House    Hut  Lighthouse   Loft  Other  Townhouse  Treehouse  Villa  \n",
       "0  False  False       False  False  False      False      False  False  \n",
       "1  False  False       False  False  False      False      False  False  \n",
       "2  False  False       False  False  False      False      False  False  \n",
       "3  False  False       False  False  False      False      False  False  \n",
       "4  False  False       False  False  False      False      False  False  \n",
       "\n",
       "[5 rows x 28 columns]"
      ]
     },
     "execution_count": 16,
     "metadata": {},
     "output_type": "execute_result"
    }
   ],
   "source": [
    "prop_type = pd.get_dummies(rents['Property Type'], drop_first=True)\n",
    "rents2 = pd.concat([rents, prop_type], axis=1)\n",
    "\n",
    "rents2.head()\n"
   ]
  },
  {
   "cell_type": "code",
   "execution_count": 17,
   "metadata": {},
   "outputs": [
    {
     "name": "stdout",
     "output_type": "stream",
     "text": [
      "0.05422796542790753\n",
      "140.30375631718576\n",
      "[   1.20115689   76.35422266   14.9777333   -17.74036742  -44.6494477\n",
      "  -28.94214085  -28.72582637   46.98204165   83.88435542   12.30402251\n",
      "  -13.88946175  -41.81948976  -30.24184351   61.89864805  -42.30029456\n",
      "   34.68701233 -134.61254844  -91.4430004    69.88477543   49.2299056\n",
      "   44.10178737   10.31950371]\n"
     ]
    }
   ],
   "source": [
    "\n",
    "y = rents2[\"Price\"]\n",
    "X = rents2[[\"Review Scores Rating\", \"Manhattan\", \"Brooklyn\", \"Queens\", \"Bronx\", \"Staten Island\", 'Bed & Breakfast', 'Boat', 'Bungalow', 'Cabin', 'Camper/RV', 'Castle', 'Chalet', \n",
    "     'Condominium', 'Dorm', 'House', 'Hut', 'Lighthouse', 'Loft', 'Other', \n",
    "     'Townhouse', 'Treehouse']]\n",
    "\n",
    "X_train, X_test, y_train, y_test = train_test_split(X, y, test_size=0.2, random_state=42)\n",
    "model = LinearRegression()\n",
    "model.fit(X_train, y_train)\n",
    "\n",
    "y_pred = model.predict(X_test)\n",
    "\n",
    "r2 = r2_score(y_test, y_pred)\n",
    "# rmse = np.sqrt((np.sum((y_test - y_pred)**2))/)\n",
    "rmse = np.sqrt(mean_squared_error(y_test, y_pred))\n",
    "print(r2)\n",
    "print(rmse)\n",
    "coefficients = model.coef_\n",
    "print (coefficients)"
   ]
  },
  {
   "cell_type": "markdown",
   "metadata": {},
   "source": [
    "The coefficient for Review Scores Rating is 1.20115689.  The most expensive property to rent is a condiminium. "
   ]
  },
  {
   "cell_type": "markdown",
   "metadata": {},
   "source": [
    "### 6. What does the coefficient on Review Scores Rating mean if it changes from part 4 to 5? Hint: Think about how multiple linear regression works.\n",
    "\n",
    "If it changes then that means that the property type is effecting the price.  By introducing additional factors into the model, some of what we thoguht was explained by Review Scores Rating, might actually be explained by property type causing it to change. "
   ]
  },
  {
   "cell_type": "markdown",
   "metadata": {},
   "source": [
    "## Question 2\n",
    "\n",
    "### 1: Load cars_hw.csv. These data were really dirty, and I’ve already cleaned them a significant amount in terms of missing values and other issues, but some issues remain (e.g. outliers, badly skewed variables that require a log or arcsinh transformation) Note this is different than normalizing: there is a text below that explains further. Clean the data however you think is most appropriate."
   ]
  },
  {
   "cell_type": "code",
   "execution_count": 18,
   "metadata": {},
   "outputs": [
    {
     "data": {
      "text/html": [
       "<div>\n",
       "<style scoped>\n",
       "    .dataframe tbody tr th:only-of-type {\n",
       "        vertical-align: middle;\n",
       "    }\n",
       "\n",
       "    .dataframe tbody tr th {\n",
       "        vertical-align: top;\n",
       "    }\n",
       "\n",
       "    .dataframe thead th {\n",
       "        text-align: right;\n",
       "    }\n",
       "</style>\n",
       "<table border=\"1\" class=\"dataframe\">\n",
       "  <thead>\n",
       "    <tr style=\"text-align: right;\">\n",
       "      <th></th>\n",
       "      <th>Unnamed: 0</th>\n",
       "      <th>Make</th>\n",
       "      <th>Make_Year</th>\n",
       "      <th>Color</th>\n",
       "      <th>Body_Type</th>\n",
       "      <th>Mileage_Run</th>\n",
       "      <th>No_of_Owners</th>\n",
       "      <th>Seating_Capacity</th>\n",
       "      <th>Fuel_Type</th>\n",
       "      <th>Transmission</th>\n",
       "      <th>Transmission_Type</th>\n",
       "      <th>Price</th>\n",
       "    </tr>\n",
       "  </thead>\n",
       "  <tbody>\n",
       "    <tr>\n",
       "      <th>0</th>\n",
       "      <td>1</td>\n",
       "      <td>Volkswagen</td>\n",
       "      <td>2017</td>\n",
       "      <td>silver</td>\n",
       "      <td>sedan</td>\n",
       "      <td>44611</td>\n",
       "      <td>1st</td>\n",
       "      <td>5</td>\n",
       "      <td>diesel</td>\n",
       "      <td>7-Speed</td>\n",
       "      <td>Automatic</td>\n",
       "      <td>657000</td>\n",
       "    </tr>\n",
       "    <tr>\n",
       "      <th>1</th>\n",
       "      <td>2</td>\n",
       "      <td>Hyundai</td>\n",
       "      <td>2016</td>\n",
       "      <td>red</td>\n",
       "      <td>crossover</td>\n",
       "      <td>20305</td>\n",
       "      <td>1st</td>\n",
       "      <td>5</td>\n",
       "      <td>petrol</td>\n",
       "      <td>5-Speed</td>\n",
       "      <td>Manual</td>\n",
       "      <td>682000</td>\n",
       "    </tr>\n",
       "    <tr>\n",
       "      <th>2</th>\n",
       "      <td>3</td>\n",
       "      <td>Honda</td>\n",
       "      <td>2019</td>\n",
       "      <td>white</td>\n",
       "      <td>suv</td>\n",
       "      <td>29540</td>\n",
       "      <td>2nd</td>\n",
       "      <td>5</td>\n",
       "      <td>petrol</td>\n",
       "      <td>5-Speed</td>\n",
       "      <td>Manual</td>\n",
       "      <td>793000</td>\n",
       "    </tr>\n",
       "    <tr>\n",
       "      <th>3</th>\n",
       "      <td>4</td>\n",
       "      <td>Renault</td>\n",
       "      <td>2017</td>\n",
       "      <td>bronze</td>\n",
       "      <td>hatchback</td>\n",
       "      <td>35680</td>\n",
       "      <td>1st</td>\n",
       "      <td>5</td>\n",
       "      <td>petrol</td>\n",
       "      <td>5-Speed</td>\n",
       "      <td>Manual</td>\n",
       "      <td>414000</td>\n",
       "    </tr>\n",
       "    <tr>\n",
       "      <th>4</th>\n",
       "      <td>5</td>\n",
       "      <td>Hyundai</td>\n",
       "      <td>2017</td>\n",
       "      <td>orange</td>\n",
       "      <td>hatchback</td>\n",
       "      <td>25126</td>\n",
       "      <td>1st</td>\n",
       "      <td>5</td>\n",
       "      <td>petrol</td>\n",
       "      <td>5-Speed</td>\n",
       "      <td>Manual</td>\n",
       "      <td>515000</td>\n",
       "    </tr>\n",
       "    <tr>\n",
       "      <th>5</th>\n",
       "      <td>6</td>\n",
       "      <td>Hyundai</td>\n",
       "      <td>2016</td>\n",
       "      <td>red</td>\n",
       "      <td>hatchback</td>\n",
       "      <td>52261</td>\n",
       "      <td>1st</td>\n",
       "      <td>5</td>\n",
       "      <td>petrol</td>\n",
       "      <td>5-Speed</td>\n",
       "      <td>Manual</td>\n",
       "      <td>604000</td>\n",
       "    </tr>\n",
       "    <tr>\n",
       "      <th>6</th>\n",
       "      <td>7</td>\n",
       "      <td>Honda</td>\n",
       "      <td>2012</td>\n",
       "      <td>grey</td>\n",
       "      <td>hatchback</td>\n",
       "      <td>28108</td>\n",
       "      <td>2nd</td>\n",
       "      <td>5</td>\n",
       "      <td>petrol</td>\n",
       "      <td>5-Speed</td>\n",
       "      <td>Manual</td>\n",
       "      <td>316000</td>\n",
       "    </tr>\n",
       "    <tr>\n",
       "      <th>7</th>\n",
       "      <td>8</td>\n",
       "      <td>Tata</td>\n",
       "      <td>2019</td>\n",
       "      <td>grey</td>\n",
       "      <td>suv</td>\n",
       "      <td>92603</td>\n",
       "      <td>1st</td>\n",
       "      <td>5</td>\n",
       "      <td>diesel</td>\n",
       "      <td>6-Speed</td>\n",
       "      <td>Automatic</td>\n",
       "      <td>1419000</td>\n",
       "    </tr>\n",
       "    <tr>\n",
       "      <th>8</th>\n",
       "      <td>9</td>\n",
       "      <td>Hyundai</td>\n",
       "      <td>2021</td>\n",
       "      <td>blue</td>\n",
       "      <td>hatchback</td>\n",
       "      <td>16304</td>\n",
       "      <td>1st</td>\n",
       "      <td>5</td>\n",
       "      <td>petrol</td>\n",
       "      <td>5-Speed</td>\n",
       "      <td>Manual</td>\n",
       "      <td>710000</td>\n",
       "    </tr>\n",
       "    <tr>\n",
       "      <th>9</th>\n",
       "      <td>10</td>\n",
       "      <td>Renault</td>\n",
       "      <td>2019</td>\n",
       "      <td>bronze</td>\n",
       "      <td>hatchback</td>\n",
       "      <td>26350</td>\n",
       "      <td>2nd</td>\n",
       "      <td>5</td>\n",
       "      <td>petrol</td>\n",
       "      <td>5-Speed</td>\n",
       "      <td>Manual</td>\n",
       "      <td>392000</td>\n",
       "    </tr>\n",
       "  </tbody>\n",
       "</table>\n",
       "</div>"
      ],
      "text/plain": [
       "   Unnamed: 0        Make  Make_Year   Color  Body_Type  Mileage_Run  \\\n",
       "0           1  Volkswagen       2017  silver      sedan        44611   \n",
       "1           2     Hyundai       2016     red  crossover        20305   \n",
       "2           3       Honda       2019   white        suv        29540   \n",
       "3           4     Renault       2017  bronze  hatchback        35680   \n",
       "4           5     Hyundai       2017  orange  hatchback        25126   \n",
       "5           6     Hyundai       2016     red  hatchback        52261   \n",
       "6           7       Honda       2012    grey  hatchback        28108   \n",
       "7           8        Tata       2019    grey        suv        92603   \n",
       "8           9     Hyundai       2021    blue  hatchback        16304   \n",
       "9          10     Renault       2019  bronze  hatchback        26350   \n",
       "\n",
       "  No_of_Owners  Seating_Capacity Fuel_Type Transmission Transmission_Type  \\\n",
       "0          1st                 5    diesel      7-Speed         Automatic   \n",
       "1          1st                 5    petrol      5-Speed            Manual   \n",
       "2          2nd                 5    petrol      5-Speed            Manual   \n",
       "3          1st                 5    petrol      5-Speed            Manual   \n",
       "4          1st                 5    petrol      5-Speed            Manual   \n",
       "5          1st                 5    petrol      5-Speed            Manual   \n",
       "6          2nd                 5    petrol      5-Speed            Manual   \n",
       "7          1st                 5    diesel      6-Speed         Automatic   \n",
       "8          1st                 5    petrol      5-Speed            Manual   \n",
       "9          2nd                 5    petrol      5-Speed            Manual   \n",
       "\n",
       "     Price  \n",
       "0   657000  \n",
       "1   682000  \n",
       "2   793000  \n",
       "3   414000  \n",
       "4   515000  \n",
       "5   604000  \n",
       "6   316000  \n",
       "7  1419000  \n",
       "8   710000  \n",
       "9   392000  "
      ]
     },
     "execution_count": 18,
     "metadata": {},
     "output_type": "execute_result"
    }
   ],
   "source": [
    "cars = pd.read_csv('/workspaces/DS-3021/data/cars_hw.csv')\n",
    "\n",
    "cars.head(10)"
   ]
  },
  {
   "cell_type": "code",
   "execution_count": 19,
   "metadata": {},
   "outputs": [
    {
     "data": {
      "text/html": [
       "<div>\n",
       "<style scoped>\n",
       "    .dataframe tbody tr th:only-of-type {\n",
       "        vertical-align: middle;\n",
       "    }\n",
       "\n",
       "    .dataframe tbody tr th {\n",
       "        vertical-align: top;\n",
       "    }\n",
       "\n",
       "    .dataframe thead th {\n",
       "        text-align: right;\n",
       "    }\n",
       "</style>\n",
       "<table border=\"1\" class=\"dataframe\">\n",
       "  <thead>\n",
       "    <tr style=\"text-align: right;\">\n",
       "      <th></th>\n",
       "      <th>Unnamed: 0</th>\n",
       "      <th>Make</th>\n",
       "      <th>Make_Year</th>\n",
       "      <th>Color</th>\n",
       "      <th>Body_Type</th>\n",
       "      <th>Mileage_Run</th>\n",
       "      <th>No_of_Owners</th>\n",
       "      <th>Seating_Capacity</th>\n",
       "      <th>Fuel_Type</th>\n",
       "      <th>Transmission</th>\n",
       "      <th>Transmission_Type</th>\n",
       "      <th>Price</th>\n",
       "      <th>Seating_Capacity1</th>\n",
       "      <th>Price1</th>\n",
       "    </tr>\n",
       "  </thead>\n",
       "  <tbody>\n",
       "    <tr>\n",
       "      <th>0</th>\n",
       "      <td>1</td>\n",
       "      <td>Volkswagen</td>\n",
       "      <td>2017</td>\n",
       "      <td>silver</td>\n",
       "      <td>sedan</td>\n",
       "      <td>44611</td>\n",
       "      <td>1st</td>\n",
       "      <td>5</td>\n",
       "      <td>diesel</td>\n",
       "      <td>7-Speed</td>\n",
       "      <td>Automatic</td>\n",
       "      <td>657000</td>\n",
       "      <td>1.791759</td>\n",
       "      <td>13.395441</td>\n",
       "    </tr>\n",
       "    <tr>\n",
       "      <th>1</th>\n",
       "      <td>2</td>\n",
       "      <td>Hyundai</td>\n",
       "      <td>2016</td>\n",
       "      <td>red</td>\n",
       "      <td>crossover</td>\n",
       "      <td>20305</td>\n",
       "      <td>1st</td>\n",
       "      <td>5</td>\n",
       "      <td>petrol</td>\n",
       "      <td>5-Speed</td>\n",
       "      <td>Manual</td>\n",
       "      <td>682000</td>\n",
       "      <td>1.791759</td>\n",
       "      <td>13.432786</td>\n",
       "    </tr>\n",
       "    <tr>\n",
       "      <th>2</th>\n",
       "      <td>3</td>\n",
       "      <td>Honda</td>\n",
       "      <td>2019</td>\n",
       "      <td>white</td>\n",
       "      <td>suv</td>\n",
       "      <td>29540</td>\n",
       "      <td>2nd</td>\n",
       "      <td>5</td>\n",
       "      <td>petrol</td>\n",
       "      <td>5-Speed</td>\n",
       "      <td>Manual</td>\n",
       "      <td>793000</td>\n",
       "      <td>1.791759</td>\n",
       "      <td>13.583580</td>\n",
       "    </tr>\n",
       "    <tr>\n",
       "      <th>3</th>\n",
       "      <td>4</td>\n",
       "      <td>Renault</td>\n",
       "      <td>2017</td>\n",
       "      <td>bronze</td>\n",
       "      <td>hatchback</td>\n",
       "      <td>35680</td>\n",
       "      <td>1st</td>\n",
       "      <td>5</td>\n",
       "      <td>petrol</td>\n",
       "      <td>5-Speed</td>\n",
       "      <td>Manual</td>\n",
       "      <td>414000</td>\n",
       "      <td>1.791759</td>\n",
       "      <td>12.933624</td>\n",
       "    </tr>\n",
       "    <tr>\n",
       "      <th>4</th>\n",
       "      <td>5</td>\n",
       "      <td>Hyundai</td>\n",
       "      <td>2017</td>\n",
       "      <td>orange</td>\n",
       "      <td>hatchback</td>\n",
       "      <td>25126</td>\n",
       "      <td>1st</td>\n",
       "      <td>5</td>\n",
       "      <td>petrol</td>\n",
       "      <td>5-Speed</td>\n",
       "      <td>Manual</td>\n",
       "      <td>515000</td>\n",
       "      <td>1.791759</td>\n",
       "      <td>13.151924</td>\n",
       "    </tr>\n",
       "  </tbody>\n",
       "</table>\n",
       "</div>"
      ],
      "text/plain": [
       "   Unnamed: 0        Make  Make_Year   Color  Body_Type  Mileage_Run  \\\n",
       "0           1  Volkswagen       2017  silver      sedan        44611   \n",
       "1           2     Hyundai       2016     red  crossover        20305   \n",
       "2           3       Honda       2019   white        suv        29540   \n",
       "3           4     Renault       2017  bronze  hatchback        35680   \n",
       "4           5     Hyundai       2017  orange  hatchback        25126   \n",
       "\n",
       "  No_of_Owners  Seating_Capacity Fuel_Type Transmission Transmission_Type  \\\n",
       "0          1st                 5    diesel      7-Speed         Automatic   \n",
       "1          1st                 5    petrol      5-Speed            Manual   \n",
       "2          2nd                 5    petrol      5-Speed            Manual   \n",
       "3          1st                 5    petrol      5-Speed            Manual   \n",
       "4          1st                 5    petrol      5-Speed            Manual   \n",
       "\n",
       "    Price  Seating_Capacity1     Price1  \n",
       "0  657000           1.791759  13.395441  \n",
       "1  682000           1.791759  13.432786  \n",
       "2  793000           1.791759  13.583580  \n",
       "3  414000           1.791759  12.933624  \n",
       "4  515000           1.791759  13.151924  "
      ]
     },
     "execution_count": 19,
     "metadata": {},
     "output_type": "execute_result"
    }
   ],
   "source": [
    "\n",
    "cars['Seating_Capacity1'] = np.log1p(cars['Seating_Capacity'])\n",
    "cars['Price1'] = np.log1p(cars['Price'])\n",
    "cars.head()"
   ]
  },
  {
   "cell_type": "markdown",
   "metadata": {},
   "source": [
    "### 2: Summarize the Price variable and create a kernel density plot. Use .groupby() and .describe() to summarize prices by brand (Make). Make a grouped kernel density plot by Make. Which car brands are the most expensive? What do prices look like in general?"
   ]
  },
  {
   "cell_type": "code",
   "execution_count": 20,
   "metadata": {},
   "outputs": [
    {
     "data": {
      "text/plain": [
       "count    9.760000e+02\n",
       "mean     7.410195e+05\n",
       "std      3.673234e+05\n",
       "min      1.880000e+05\n",
       "25%      4.757500e+05\n",
       "50%      6.665000e+05\n",
       "75%      8.830000e+05\n",
       "max      2.941000e+06\n",
       "Name: Price, dtype: float64"
      ]
     },
     "execution_count": 20,
     "metadata": {},
     "output_type": "execute_result"
    }
   ],
   "source": [
    "cars[\"Price\"].describe()"
   ]
  },
  {
   "cell_type": "code",
   "execution_count": 21,
   "metadata": {},
   "outputs": [
    {
     "data": {
      "text/plain": [
       "<Axes: xlabel='Price', ylabel='Density'>"
      ]
     },
     "execution_count": 21,
     "metadata": {},
     "output_type": "execute_result"
    },
    {
     "data": {
      "image/png": "[encoded data removed]",
      "text/plain": [
       "<Figure size 640x480 with 1 Axes>"
      ]
     },
     "metadata": {},
     "output_type": "display_data"
    }
   ],
   "source": [
    "sns.kdeplot(cars, x = \"Price\", fill=True)"
   ]
  },
  {
   "cell_type": "code",
   "execution_count": 22,
   "metadata": {},
   "outputs": [
    {
     "data": {
      "text/html": [
       "<div>\n",
       "<style scoped>\n",
       "    .dataframe tbody tr th:only-of-type {\n",
       "        vertical-align: middle;\n",
       "    }\n",
       "\n",
       "    .dataframe tbody tr th {\n",
       "        vertical-align: top;\n",
       "    }\n",
       "\n",
       "    .dataframe thead tr th {\n",
       "        text-align: left;\n",
       "    }\n",
       "\n",
       "    .dataframe thead tr:last-of-type th {\n",
       "        text-align: right;\n",
       "    }\n",
       "</style>\n",
       "<table border=\"1\" class=\"dataframe\">\n",
       "  <thead>\n",
       "    <tr>\n",
       "      <th></th>\n",
       "      <th colspan=\"8\" halign=\"left\">Price</th>\n",
       "    </tr>\n",
       "    <tr>\n",
       "      <th></th>\n",
       "      <th>count</th>\n",
       "      <th>mean</th>\n",
       "      <th>std</th>\n",
       "      <th>min</th>\n",
       "      <th>25%</th>\n",
       "      <th>50%</th>\n",
       "      <th>75%</th>\n",
       "      <th>max</th>\n",
       "    </tr>\n",
       "    <tr>\n",
       "      <th>Make</th>\n",
       "      <th></th>\n",
       "      <th></th>\n",
       "      <th></th>\n",
       "      <th></th>\n",
       "      <th></th>\n",
       "      <th></th>\n",
       "      <th></th>\n",
       "      <th></th>\n",
       "    </tr>\n",
       "  </thead>\n",
       "  <tbody>\n",
       "    <tr>\n",
       "      <th>Chevrolet</th>\n",
       "      <td>6.0</td>\n",
       "      <td>4.535000e+05</td>\n",
       "      <td>2.466064e+05</td>\n",
       "      <td>267000.0</td>\n",
       "      <td>288500.0</td>\n",
       "      <td>345500.0</td>\n",
       "      <td>537500.0</td>\n",
       "      <td>892000.0</td>\n",
       "    </tr>\n",
       "    <tr>\n",
       "      <th>Datsun</th>\n",
       "      <td>3.0</td>\n",
       "      <td>2.896667e+05</td>\n",
       "      <td>1.050397e+04</td>\n",
       "      <td>279000.0</td>\n",
       "      <td>284500.0</td>\n",
       "      <td>290000.0</td>\n",
       "      <td>295000.0</td>\n",
       "      <td>300000.0</td>\n",
       "    </tr>\n",
       "    <tr>\n",
       "      <th>Ford</th>\n",
       "      <td>52.0</td>\n",
       "      <td>7.211731e+05</td>\n",
       "      <td>1.409277e+05</td>\n",
       "      <td>290000.0</td>\n",
       "      <td>635000.0</td>\n",
       "      <td>707500.0</td>\n",
       "      <td>787000.0</td>\n",
       "      <td>1066000.0</td>\n",
       "    </tr>\n",
       "    <tr>\n",
       "      <th>Honda</th>\n",
       "      <td>73.0</td>\n",
       "      <td>7.989726e+05</td>\n",
       "      <td>2.665091e+05</td>\n",
       "      <td>316000.0</td>\n",
       "      <td>581000.0</td>\n",
       "      <td>785000.0</td>\n",
       "      <td>915000.0</td>\n",
       "      <td>1537000.0</td>\n",
       "    </tr>\n",
       "    <tr>\n",
       "      <th>Hyundai</th>\n",
       "      <td>305.0</td>\n",
       "      <td>6.918918e+05</td>\n",
       "      <td>2.791597e+05</td>\n",
       "      <td>248000.0</td>\n",
       "      <td>485000.0</td>\n",
       "      <td>638000.0</td>\n",
       "      <td>837000.0</td>\n",
       "      <td>1742000.0</td>\n",
       "    </tr>\n",
       "    <tr>\n",
       "      <th>Jeep</th>\n",
       "      <td>4.0</td>\n",
       "      <td>1.499500e+06</td>\n",
       "      <td>1.525134e+05</td>\n",
       "      <td>1290000.0</td>\n",
       "      <td>1447500.0</td>\n",
       "      <td>1529500.0</td>\n",
       "      <td>1581500.0</td>\n",
       "      <td>1649000.0</td>\n",
       "    </tr>\n",
       "    <tr>\n",
       "      <th>Kia</th>\n",
       "      <td>8.0</td>\n",
       "      <td>1.614750e+06</td>\n",
       "      <td>1.190567e+05</td>\n",
       "      <td>1369000.0</td>\n",
       "      <td>1579000.0</td>\n",
       "      <td>1628500.0</td>\n",
       "      <td>1705750.0</td>\n",
       "      <td>1741000.0</td>\n",
       "    </tr>\n",
       "    <tr>\n",
       "      <th>MG Motors</th>\n",
       "      <td>35.0</td>\n",
       "      <td>1.869457e+06</td>\n",
       "      <td>1.216611e+05</td>\n",
       "      <td>1589000.0</td>\n",
       "      <td>1786500.0</td>\n",
       "      <td>1848000.0</td>\n",
       "      <td>1978000.0</td>\n",
       "      <td>2019000.0</td>\n",
       "    </tr>\n",
       "    <tr>\n",
       "      <th>Mahindra</th>\n",
       "      <td>18.0</td>\n",
       "      <td>1.100167e+06</td>\n",
       "      <td>1.755493e+05</td>\n",
       "      <td>796000.0</td>\n",
       "      <td>1037000.0</td>\n",
       "      <td>1094500.0</td>\n",
       "      <td>1157000.0</td>\n",
       "      <td>1465000.0</td>\n",
       "    </tr>\n",
       "    <tr>\n",
       "      <th>Maruti Suzuki</th>\n",
       "      <td>293.0</td>\n",
       "      <td>5.887850e+05</td>\n",
       "      <td>2.160199e+05</td>\n",
       "      <td>237000.0</td>\n",
       "      <td>411000.0</td>\n",
       "      <td>527000.0</td>\n",
       "      <td>764000.0</td>\n",
       "      <td>1163000.0</td>\n",
       "    </tr>\n",
       "    <tr>\n",
       "      <th>Nissan</th>\n",
       "      <td>4.0</td>\n",
       "      <td>8.842500e+05</td>\n",
       "      <td>2.895599e+05</td>\n",
       "      <td>475000.0</td>\n",
       "      <td>782500.0</td>\n",
       "      <td>978000.0</td>\n",
       "      <td>1079750.0</td>\n",
       "      <td>1106000.0</td>\n",
       "    </tr>\n",
       "    <tr>\n",
       "      <th>Renault</th>\n",
       "      <td>68.0</td>\n",
       "      <td>6.625735e+05</td>\n",
       "      <td>2.148273e+05</td>\n",
       "      <td>287000.0</td>\n",
       "      <td>475000.0</td>\n",
       "      <td>644000.0</td>\n",
       "      <td>801000.0</td>\n",
       "      <td>1164000.0</td>\n",
       "    </tr>\n",
       "    <tr>\n",
       "      <th>Skoda</th>\n",
       "      <td>5.0</td>\n",
       "      <td>1.136000e+06</td>\n",
       "      <td>1.070175e+06</td>\n",
       "      <td>436000.0</td>\n",
       "      <td>466000.0</td>\n",
       "      <td>538000.0</td>\n",
       "      <td>1299000.0</td>\n",
       "      <td>2941000.0</td>\n",
       "    </tr>\n",
       "    <tr>\n",
       "      <th>Tata</th>\n",
       "      <td>23.0</td>\n",
       "      <td>1.055217e+06</td>\n",
       "      <td>5.578305e+05</td>\n",
       "      <td>188000.0</td>\n",
       "      <td>779500.0</td>\n",
       "      <td>869000.0</td>\n",
       "      <td>1552000.0</td>\n",
       "      <td>2100000.0</td>\n",
       "    </tr>\n",
       "    <tr>\n",
       "      <th>Toyota</th>\n",
       "      <td>50.0</td>\n",
       "      <td>8.003400e+05</td>\n",
       "      <td>2.466900e+05</td>\n",
       "      <td>368000.0</td>\n",
       "      <td>526250.0</td>\n",
       "      <td>894000.0</td>\n",
       "      <td>1023000.0</td>\n",
       "      <td>1092000.0</td>\n",
       "    </tr>\n",
       "    <tr>\n",
       "      <th>Volkswagen</th>\n",
       "      <td>29.0</td>\n",
       "      <td>6.058276e+05</td>\n",
       "      <td>1.198312e+05</td>\n",
       "      <td>402000.0</td>\n",
       "      <td>542000.0</td>\n",
       "      <td>607000.0</td>\n",
       "      <td>699000.0</td>\n",
       "      <td>790000.0</td>\n",
       "    </tr>\n",
       "  </tbody>\n",
       "</table>\n",
       "</div>"
      ],
      "text/plain": [
       "               Price                                                    \\\n",
       "               count          mean           std        min        25%   \n",
       "Make                                                                     \n",
       "Chevrolet        6.0  4.535000e+05  2.466064e+05   267000.0   288500.0   \n",
       "Datsun           3.0  2.896667e+05  1.050397e+04   279000.0   284500.0   \n",
       "Ford            52.0  7.211731e+05  1.409277e+05   290000.0   635000.0   \n",
       "Honda           73.0  7.989726e+05  2.665091e+05   316000.0   581000.0   \n",
       "Hyundai        305.0  6.918918e+05  2.791597e+05   248000.0   485000.0   \n",
       "Jeep             4.0  1.499500e+06  1.525134e+05  1290000.0  1447500.0   \n",
       "Kia              8.0  1.614750e+06  1.190567e+05  1369000.0  1579000.0   \n",
       "MG Motors       35.0  1.869457e+06  1.216611e+05  1589000.0  1786500.0   \n",
       "Mahindra        18.0  1.100167e+06  1.755493e+05   796000.0  1037000.0   \n",
       "Maruti Suzuki  293.0  5.887850e+05  2.160199e+05   237000.0   411000.0   \n",
       "Nissan           4.0  8.842500e+05  2.895599e+05   475000.0   782500.0   \n",
       "Renault         68.0  6.625735e+05  2.148273e+05   287000.0   475000.0   \n",
       "Skoda            5.0  1.136000e+06  1.070175e+06   436000.0   466000.0   \n",
       "Tata            23.0  1.055217e+06  5.578305e+05   188000.0   779500.0   \n",
       "Toyota          50.0  8.003400e+05  2.466900e+05   368000.0   526250.0   \n",
       "Volkswagen      29.0  6.058276e+05  1.198312e+05   402000.0   542000.0   \n",
       "\n",
       "                                                \n",
       "                     50%        75%        max  \n",
       "Make                                            \n",
       "Chevrolet       345500.0   537500.0   892000.0  \n",
       "Datsun          290000.0   295000.0   300000.0  \n",
       "Ford            707500.0   787000.0  1066000.0  \n",
       "Honda           785000.0   915000.0  1537000.0  \n",
       "Hyundai         638000.0   837000.0  1742000.0  \n",
       "Jeep           1529500.0  1581500.0  1649000.0  \n",
       "Kia            1628500.0  1705750.0  1741000.0  \n",
       "MG Motors      1848000.0  1978000.0  2019000.0  \n",
       "Mahindra       1094500.0  1157000.0  1465000.0  \n",
       "Maruti Suzuki   527000.0   764000.0  1163000.0  \n",
       "Nissan          978000.0  1079750.0  1106000.0  \n",
       "Renault         644000.0   801000.0  1164000.0  \n",
       "Skoda           538000.0  1299000.0  2941000.0  \n",
       "Tata            869000.0  1552000.0  2100000.0  \n",
       "Toyota          894000.0  1023000.0  1092000.0  \n",
       "Volkswagen      607000.0   699000.0   790000.0  "
      ]
     },
     "execution_count": 22,
     "metadata": {},
     "output_type": "execute_result"
    }
   ],
   "source": [
    "cars.groupby('Make')[['Price']].describe()\n"
   ]
  },
  {
   "cell_type": "code",
   "execution_count": 23,
   "metadata": {},
   "outputs": [
    {
     "data": {
      "text/plain": [
       "<Axes: xlabel='Price', ylabel='Density'>"
      ]
     },
     "execution_count": 23,
     "metadata": {},
     "output_type": "execute_result"
    },
    {
     "data": {
      "image/png": "[encoded data removed]",
      "text/plain": [
       "<Figure size 640x480 with 1 Axes>"
      ]
     },
     "metadata": {},
     "output_type": "display_data"
    }
   ],
   "source": [
    "sns.kdeplot(cars, x = \"Price\", hue= \"Make\", fill=True)"
   ]
  },
  {
   "cell_type": "markdown",
   "metadata": {},
   "source": [
    "MG Moters, kia and jeep tend to be some of the most expensive.  Generally prices are at around 5 * 10^5.  However they generally range from 1000 to 2*10^6"
   ]
  },
  {
   "cell_type": "markdown",
   "metadata": {},
   "source": [
    "### 3. Split the data into an 80% training set and a 20% testing set."
   ]
  },
  {
   "cell_type": "code",
   "execution_count": 34,
   "metadata": {},
   "outputs": [],
   "source": [
    "y = cars[\"Price\"]\n",
    "X = cars.drop(columns=['Price'])\n",
    "\n",
    "X_train, X_test, y_train, y_test = train_test_split(X, y, test_size=0.2, random_state=42)"
   ]
  },
  {
   "cell_type": "markdown",
   "metadata": {},
   "source": [
    "### 4: Make a model where you regress price on the numeric variables alone; what is the R^2 and RMSE on the training set and test set? Make a second model where, for the categorical variables, you regress price on a model comprised of one-hot encoded regressors/features alone (you can use pd.get_dummies(); be careful of the dummy variable trap); what is the R^2 and RMSE on the test set? Which model performs better on the test set? Make a third model that combines all the regressors from the previous two; what is the R^2 and RMSE on the test set? Does the joint model perform better or worse, and by home much?"
   ]
  },
  {
   "cell_type": "code",
   "execution_count": 43,
   "metadata": {},
   "outputs": [
    {
     "name": "stdout",
     "output_type": "stream",
     "text": [
      "Train Data set R^2 first, RMSE second\n",
      "0.31494595514881785\n",
      "309225.2455741484\n",
      "Test Data set R^2 first, RMSE second\n",
      "0.2934121573877525\n",
      "284679.52788596344\n"
     ]
    }
   ],
   "source": [
    "X_train_n = X_train[['Seating_Capacity1', 'Mileage_Run','Make_Year']]\n",
    "X_test_n = X_test[['Seating_Capacity1', 'Mileage_Run','Make_Year']]\n",
    "\n",
    "model_n = LinearRegression()\n",
    "model_n.fit(X_train_n, y_train)\n",
    "\n",
    "y_pred = model_n.predict(X_test_n)\n",
    "\n",
    "y_t_pred = model_n.predict(X_train_n)\n",
    "\n",
    "r2 = r2_score(y_train, y_t_pred)\n",
    "rmse = np.sqrt(mean_squared_error(y_train, y_t_pred))\n",
    "print(\"Train Data set R^2 first, RMSE second\")\n",
    "print(r2)\n",
    "print(rmse)\n",
    "\n",
    "\n",
    "r2 = r2_score(y_test, y_pred)\n",
    "rmse = np.sqrt(mean_squared_error(y_test, y_pred))\n",
    "print(\"Test Data set R^2 first, RMSE second\")\n",
    "print(r2)\n",
    "print(rmse)\n",
    "\n"
   ]
  },
  {
   "cell_type": "code",
   "execution_count": 50,
   "metadata": {},
   "outputs": [
    {
     "name": "stdout",
     "output_type": "stream",
     "text": [
      "Test Data set R^2 first, RMSE second\n",
      "0.6639190844540186\n",
      "196333.80451741634\n"
     ]
    }
   ],
   "source": [
    "X_categorical = pd.get_dummies(cars[['Make', 'Color', 'Body_Type', 'No_of_Owners', 'Fuel_Type', 'Transmission_Type']], drop_first=True)\n",
    "X_train_c, X_test_c, y_train, y_test = train_test_split(X_categorical, y, test_size=0.2, random_state=42)\n",
    "\n",
    "model_n = LinearRegression()\n",
    "model_n.fit(X_train_c, y_train)\n",
    "\n",
    "y_pred = model_n.predict(X_test_c)\n",
    "\n",
    "y_t_pred = model_n.predict(X_train_c)\n",
    "\n",
    "\n",
    "\n",
    "\n",
    "r2 = r2_score(y_test, y_pred)\n",
    "rmse = np.sqrt(mean_squared_error(y_test, y_pred))\n",
    "print(\"Test Data set R^2 first, RMSE second\")\n",
    "print(r2)\n",
    "print(rmse)"
   ]
  },
  {
   "cell_type": "markdown",
   "metadata": {},
   "source": [
    "The second model performs better on the test set (the one with categorical data), it has a smaller RMSE. "
   ]
  },
  {
   "cell_type": "code",
   "execution_count": 53,
   "metadata": {},
   "outputs": [
    {
     "name": "stdout",
     "output_type": "stream",
     "text": [
      "Test Data set R^2 first, RMSE second\n",
      "0.7892009639211461\n",
      "155491.79133188128\n"
     ]
    }
   ],
   "source": [
    "cars_n = cars[['Seating_Capacity1', 'Mileage_Run', 'Make_Year']].reset_index(drop=True)\n",
    "combinedcars = pd.concat([X_categorical, cars_n], axis=1)\n",
    "X_train, X_test, y_train, y_test = train_test_split(combinedcars, y, test_size=0.2, random_state=42)\n",
    "\n",
    "model = LinearRegression()\n",
    "model.fit(X_train, y_train)\n",
    "\n",
    "y_pred = model.predict(X_test)\n",
    "\n",
    "\n",
    "r2 = r2_score(y_test, y_pred)\n",
    "rmse = np.sqrt(mean_squared_error(y_test, y_pred))\n",
    "print(\"Test Data set R^2 first, RMSE second\")\n",
    "print(r2)\n",
    "print(rmse)\n"
   ]
  },
  {
   "cell_type": "markdown",
   "metadata": {},
   "source": [
    "The joint model performs significantly better.  The RMSE went from 280000 to 190000 to 155000.  "
   ]
  },
  {
   "cell_type": "code",
   "execution_count": null,
   "metadata": {},
   "outputs": [
    {
     "name": "stdout",
     "output_type": "stream",
     "text": [
      "[0.2934121573877231, 0.123708708586736, 0.07641409386455777, -0.18046758812440067, -0.025763571554988207]\n",
      "[np.float64(284679.5278859694), np.float64(317027.8419224582), np.float64(325470.6303389924), np.float64(367959.64411376556), np.float64(343002.1105736865)]\n"
     ]
    }
   ],
   "source": [
    "from sklearn.preprocessing import PolynomialFeatures\n",
    "\n",
    "\n",
    "degrees = [1, 10, 17, 20, 30]\n",
    "r2_train = []\n",
    "r2_test = []\n",
    "rmse_train = []\n",
    "rmse_test = []\n",
    "\n",
    "for degree in degrees:\n",
    "    poly = PolynomialFeatures(degree)\n",
    "    X_train_p = poly.fit_transform(X_train[['Seating_Capacity1', 'Mileage_Run', 'Make_Year']])\n",
    "    X_test_p = poly.transform(X_test[['Seating_Capacity1', 'Mileage_Run', 'Make_Year']])\n",
    "\n",
    "    model = LinearRegression()\n",
    "    model.fit(X_train_p, y_train)\n",
    "\n",
    "    y_pred_train = model.predict(X_train_p)\n",
    "    y_pred_test = model.predict(X_test_p)\n",
    "\n",
    "\n",
    "    r2_test.append(r2_score(y_test, y_pred_test))\n",
    "\n",
    "    rmse_test.append(np.sqrt(mean_squared_error(y_test, y_pred_test)))\n",
    "\n",
    "\n",
    "print(r2_test)\n",
    "print(rmse_test)\n"
   ]
  },
  {
   "cell_type": "markdown",
   "metadata": {},
   "source": [
    "As the degree expands, R^2 goes down while RMSE goes up.  R^2 becomes negative around 19.  My best models RMSE was 280,000 and R^2 of 0.2934 which was worse than my best model in 4 which had an RMSE of 150,000 and an R^2 of 0.78."
   ]
  },
  {
   "cell_type": "markdown",
   "metadata": {},
   "source": [
    "### 6. For your best model so far, determine the predicted values for the test data and plot them against the true values. Do the predicted values and true values roughly line up along the diagonal, or not? Compute the residuals/errors for the test data and create a kernel density plot. Do the residuals look roughly bell-shaped around zero? Evaluate the strengths and weaknesses of your model."
   ]
  },
  {
   "cell_type": "code",
   "execution_count": 64,
   "metadata": {},
   "outputs": [
    {
     "data": {
      "text/plain": [
       "Text(0, 0.5, 'Predicted Values')"
      ]
     },
     "execution_count": 64,
     "metadata": {},
     "output_type": "execute_result"
    },
    {
     "data": {
      "image/png": "[encoded data removed]",
      "text/plain": [
       "<Figure size 640x480 with 1 Axes>"
      ]
     },
     "metadata": {},
     "output_type": "display_data"
    }
   ],
   "source": [
    "plt.scatter(y_test, y_pred)  # Scatter plot of true vs predicted values\n",
    "\n",
    "plt.xlabel('True Values')\n",
    "plt.ylabel('Predicted Values')"
   ]
  },
  {
   "cell_type": "markdown",
   "metadata": {},
   "source": [
    "Generally the values do line up on the diagonal.  They have a clear positve correlation.  "
   ]
  },
  {
   "cell_type": "code",
   "execution_count": 66,
   "metadata": {},
   "outputs": [
    {
     "name": "stdout",
     "output_type": "stream",
     "text": [
      "199      3045.701719\n",
      "541   -182168.331045\n",
      "174    -47777.695765\n",
      "468    -61776.000543\n",
      "66     475419.120810\n",
      "           ...      \n",
      "824   -161042.177851\n",
      "881     40486.750256\n",
      "523    -48652.975379\n",
      "689    251418.186895\n",
      "970    -52039.710957\n",
      "Name: Price, Length: 196, dtype: float64\n"
     ]
    }
   ],
   "source": [
    "residuals = y_test - y_pred\n",
    "print(residuals)"
   ]
  },
  {
   "cell_type": "code",
   "execution_count": 67,
   "metadata": {},
   "outputs": [
    {
     "data": {
      "text/plain": [
       "<Axes: xlabel='Price', ylabel='Density'>"
      ]
     },
     "execution_count": 67,
     "metadata": {},
     "output_type": "execute_result"
    },
    {
     "data": {
      "image/png": "[encoded data removed]",
      "text/plain": [
       "<Figure size 640x480 with 1 Axes>"
      ]
     },
     "metadata": {},
     "output_type": "display_data"
    }
   ],
   "source": [
    "sns.kdeplot(residuals)"
   ]
  },
  {
   "cell_type": "markdown",
   "metadata": {},
   "source": [
    "The residuals are bell shaped around zero.  This means that the model is acting fairly accurately.  However on both sides it seems that there are small amounts of larger error.  Perhaps this was from outliers being left in the data.  If so those could be taken out to better create the model.  However overall, the model seems normally distributed.  "
   ]
  },
  {
   "cell_type": "markdown",
   "metadata": {},
   "source": [
    "## Question 3"
   ]
  },
  {
   "cell_type": "markdown",
   "metadata": {},
   "source": [
    "### 1. Find a dataset on a topic you’re interested in. Some easy options are data.gov, kaggle.com, and data.world.\n"
   ]
  },
  {
   "cell_type": "code",
   "execution_count": 70,
   "metadata": {},
   "outputs": [
    {
     "data": {
      "text/html": [
       "<div>\n",
       "<style scoped>\n",
       "    .dataframe tbody tr th:only-of-type {\n",
       "        vertical-align: middle;\n",
       "    }\n",
       "\n",
       "    .dataframe tbody tr th {\n",
       "        vertical-align: top;\n",
       "    }\n",
       "\n",
       "    .dataframe thead th {\n",
       "        text-align: right;\n",
       "    }\n",
       "</style>\n",
       "<table border=\"1\" class=\"dataframe\">\n",
       "  <thead>\n",
       "    <tr style=\"text-align: right;\">\n",
       "      <th></th>\n",
       "      <th>Number_of_Customers_Per_Day</th>\n",
       "      <th>Average_Order_Value</th>\n",
       "      <th>Operating_Hours_Per_Day</th>\n",
       "      <th>Number_of_Employees</th>\n",
       "      <th>Marketing_Spend_Per_Day</th>\n",
       "      <th>Location_Foot_Traffic</th>\n",
       "      <th>Daily_Revenue</th>\n",
       "    </tr>\n",
       "  </thead>\n",
       "  <tbody>\n",
       "    <tr>\n",
       "      <th>0</th>\n",
       "      <td>152</td>\n",
       "      <td>6.74</td>\n",
       "      <td>14</td>\n",
       "      <td>4</td>\n",
       "      <td>106.62</td>\n",
       "      <td>97</td>\n",
       "      <td>1547.81</td>\n",
       "    </tr>\n",
       "    <tr>\n",
       "      <th>1</th>\n",
       "      <td>485</td>\n",
       "      <td>4.50</td>\n",
       "      <td>12</td>\n",
       "      <td>8</td>\n",
       "      <td>57.83</td>\n",
       "      <td>744</td>\n",
       "      <td>2084.68</td>\n",
       "    </tr>\n",
       "    <tr>\n",
       "      <th>2</th>\n",
       "      <td>398</td>\n",
       "      <td>9.09</td>\n",
       "      <td>6</td>\n",
       "      <td>6</td>\n",
       "      <td>91.76</td>\n",
       "      <td>636</td>\n",
       "      <td>3118.39</td>\n",
       "    </tr>\n",
       "    <tr>\n",
       "      <th>3</th>\n",
       "      <td>320</td>\n",
       "      <td>8.48</td>\n",
       "      <td>17</td>\n",
       "      <td>4</td>\n",
       "      <td>462.63</td>\n",
       "      <td>770</td>\n",
       "      <td>2912.20</td>\n",
       "    </tr>\n",
       "    <tr>\n",
       "      <th>4</th>\n",
       "      <td>156</td>\n",
       "      <td>7.44</td>\n",
       "      <td>17</td>\n",
       "      <td>2</td>\n",
       "      <td>412.52</td>\n",
       "      <td>232</td>\n",
       "      <td>1663.42</td>\n",
       "    </tr>\n",
       "  </tbody>\n",
       "</table>\n",
       "</div>"
      ],
      "text/plain": [
       "   Number_of_Customers_Per_Day  Average_Order_Value  Operating_Hours_Per_Day  \\\n",
       "0                          152                 6.74                       14   \n",
       "1                          485                 4.50                       12   \n",
       "2                          398                 9.09                        6   \n",
       "3                          320                 8.48                       17   \n",
       "4                          156                 7.44                       17   \n",
       "\n",
       "   Number_of_Employees  Marketing_Spend_Per_Day  Location_Foot_Traffic  \\\n",
       "0                    4                   106.62                     97   \n",
       "1                    8                    57.83                    744   \n",
       "2                    6                    91.76                    636   \n",
       "3                    4                   462.63                    770   \n",
       "4                    2                   412.52                    232   \n",
       "\n",
       "   Daily_Revenue  \n",
       "0        1547.81  \n",
       "1        2084.68  \n",
       "2        3118.39  \n",
       "3        2912.20  \n",
       "4        1663.42  "
      ]
     },
     "execution_count": 70,
     "metadata": {},
     "output_type": "execute_result"
    }
   ],
   "source": [
    "\n",
    "coffee = pd.read_csv(\"/workspaces/DS-3021/06_ML_Concepts_II_KNN/coffee_shop_revenue.csv\")\n",
    "\n",
    "coffee.head()"
   ]
  },
  {
   "cell_type": "markdown",
   "metadata": {},
   "source": [
    "### 2. Clean the data and do some exploratory data analysis on key variables that interest you. Pick a particular target/outcome variable and features/predictors."
   ]
  },
  {
   "cell_type": "code",
   "execution_count": 72,
   "metadata": {},
   "outputs": [
    {
     "data": {
      "text/html": [
       "<div>\n",
       "<style scoped>\n",
       "    .dataframe tbody tr th:only-of-type {\n",
       "        vertical-align: middle;\n",
       "    }\n",
       "\n",
       "    .dataframe tbody tr th {\n",
       "        vertical-align: top;\n",
       "    }\n",
       "\n",
       "    .dataframe thead th {\n",
       "        text-align: right;\n",
       "    }\n",
       "</style>\n",
       "<table border=\"1\" class=\"dataframe\">\n",
       "  <thead>\n",
       "    <tr style=\"text-align: right;\">\n",
       "      <th></th>\n",
       "      <th>Daily_Revenue</th>\n",
       "    </tr>\n",
       "    <tr>\n",
       "      <th>Number_of_Employees</th>\n",
       "      <th></th>\n",
       "    </tr>\n",
       "  </thead>\n",
       "  <tbody>\n",
       "    <tr>\n",
       "      <th>2</th>\n",
       "      <td>1850.392821</td>\n",
       "    </tr>\n",
       "    <tr>\n",
       "      <th>3</th>\n",
       "      <td>1894.754192</td>\n",
       "    </tr>\n",
       "    <tr>\n",
       "      <th>4</th>\n",
       "      <td>2037.266897</td>\n",
       "    </tr>\n",
       "    <tr>\n",
       "      <th>5</th>\n",
       "      <td>1941.952549</td>\n",
       "    </tr>\n",
       "    <tr>\n",
       "      <th>6</th>\n",
       "      <td>1975.301267</td>\n",
       "    </tr>\n",
       "    <tr>\n",
       "      <th>7</th>\n",
       "      <td>1950.401282</td>\n",
       "    </tr>\n",
       "    <tr>\n",
       "      <th>8</th>\n",
       "      <td>1842.192343</td>\n",
       "    </tr>\n",
       "    <tr>\n",
       "      <th>9</th>\n",
       "      <td>1781.255724</td>\n",
       "    </tr>\n",
       "    <tr>\n",
       "      <th>10</th>\n",
       "      <td>1942.847746</td>\n",
       "    </tr>\n",
       "    <tr>\n",
       "      <th>11</th>\n",
       "      <td>1914.072472</td>\n",
       "    </tr>\n",
       "    <tr>\n",
       "      <th>12</th>\n",
       "      <td>1874.320985</td>\n",
       "    </tr>\n",
       "    <tr>\n",
       "      <th>13</th>\n",
       "      <td>1956.195766</td>\n",
       "    </tr>\n",
       "    <tr>\n",
       "      <th>14</th>\n",
       "      <td>1974.525671</td>\n",
       "    </tr>\n",
       "  </tbody>\n",
       "</table>\n",
       "</div>"
      ],
      "text/plain": [
       "                     Daily_Revenue\n",
       "Number_of_Employees               \n",
       "2                      1850.392821\n",
       "3                      1894.754192\n",
       "4                      2037.266897\n",
       "5                      1941.952549\n",
       "6                      1975.301267\n",
       "7                      1950.401282\n",
       "8                      1842.192343\n",
       "9                      1781.255724\n",
       "10                     1942.847746\n",
       "11                     1914.072472\n",
       "12                     1874.320985\n",
       "13                     1956.195766\n",
       "14                     1974.525671"
      ]
     },
     "execution_count": 72,
     "metadata": {},
     "output_type": "execute_result"
    }
   ],
   "source": [
    "coffee.groupby('Number_of_Employees')[['Daily_Revenue']].mean()"
   ]
  },
  {
   "cell_type": "code",
   "execution_count": 73,
   "metadata": {},
   "outputs": [
    {
     "data": {
      "text/html": [
       "<div>\n",
       "<style scoped>\n",
       "    .dataframe tbody tr th:only-of-type {\n",
       "        vertical-align: middle;\n",
       "    }\n",
       "\n",
       "    .dataframe tbody tr th {\n",
       "        vertical-align: top;\n",
       "    }\n",
       "\n",
       "    .dataframe thead th {\n",
       "        text-align: right;\n",
       "    }\n",
       "</style>\n",
       "<table border=\"1\" class=\"dataframe\">\n",
       "  <thead>\n",
       "    <tr style=\"text-align: right;\">\n",
       "      <th></th>\n",
       "      <th>Number_of_Customers_Per_Day</th>\n",
       "      <th>Average_Order_Value</th>\n",
       "      <th>Operating_Hours_Per_Day</th>\n",
       "      <th>Number_of_Employees</th>\n",
       "      <th>Marketing_Spend_Per_Day</th>\n",
       "      <th>Location_Foot_Traffic</th>\n",
       "      <th>Daily_Revenue</th>\n",
       "    </tr>\n",
       "  </thead>\n",
       "  <tbody>\n",
       "    <tr>\n",
       "      <th>count</th>\n",
       "      <td>2000.000000</td>\n",
       "      <td>2000.000000</td>\n",
       "      <td>2000.000000</td>\n",
       "      <td>2000.000000</td>\n",
       "      <td>2000.000000</td>\n",
       "      <td>2000.000000</td>\n",
       "      <td>2000.000000</td>\n",
       "    </tr>\n",
       "    <tr>\n",
       "      <th>mean</th>\n",
       "      <td>274.296000</td>\n",
       "      <td>6.261215</td>\n",
       "      <td>11.667000</td>\n",
       "      <td>7.947000</td>\n",
       "      <td>252.614160</td>\n",
       "      <td>534.893500</td>\n",
       "      <td>1917.325940</td>\n",
       "    </tr>\n",
       "    <tr>\n",
       "      <th>std</th>\n",
       "      <td>129.441933</td>\n",
       "      <td>2.175832</td>\n",
       "      <td>3.438608</td>\n",
       "      <td>3.742218</td>\n",
       "      <td>141.136004</td>\n",
       "      <td>271.662295</td>\n",
       "      <td>976.202746</td>\n",
       "    </tr>\n",
       "    <tr>\n",
       "      <th>min</th>\n",
       "      <td>50.000000</td>\n",
       "      <td>2.500000</td>\n",
       "      <td>6.000000</td>\n",
       "      <td>2.000000</td>\n",
       "      <td>10.120000</td>\n",
       "      <td>50.000000</td>\n",
       "      <td>-58.950000</td>\n",
       "    </tr>\n",
       "    <tr>\n",
       "      <th>25%</th>\n",
       "      <td>164.000000</td>\n",
       "      <td>4.410000</td>\n",
       "      <td>9.000000</td>\n",
       "      <td>5.000000</td>\n",
       "      <td>130.125000</td>\n",
       "      <td>302.000000</td>\n",
       "      <td>1140.085000</td>\n",
       "    </tr>\n",
       "    <tr>\n",
       "      <th>50%</th>\n",
       "      <td>275.000000</td>\n",
       "      <td>6.300000</td>\n",
       "      <td>12.000000</td>\n",
       "      <td>8.000000</td>\n",
       "      <td>250.995000</td>\n",
       "      <td>540.000000</td>\n",
       "      <td>1770.775000</td>\n",
       "    </tr>\n",
       "    <tr>\n",
       "      <th>75%</th>\n",
       "      <td>386.000000</td>\n",
       "      <td>8.120000</td>\n",
       "      <td>15.000000</td>\n",
       "      <td>11.000000</td>\n",
       "      <td>375.352500</td>\n",
       "      <td>767.000000</td>\n",
       "      <td>2530.455000</td>\n",
       "    </tr>\n",
       "    <tr>\n",
       "      <th>max</th>\n",
       "      <td>499.000000</td>\n",
       "      <td>10.000000</td>\n",
       "      <td>17.000000</td>\n",
       "      <td>14.000000</td>\n",
       "      <td>499.740000</td>\n",
       "      <td>999.000000</td>\n",
       "      <td>5114.600000</td>\n",
       "    </tr>\n",
       "  </tbody>\n",
       "</table>\n",
       "</div>"
      ],
      "text/plain": [
       "       Number_of_Customers_Per_Day  Average_Order_Value  \\\n",
       "count                  2000.000000          2000.000000   \n",
       "mean                    274.296000             6.261215   \n",
       "std                     129.441933             2.175832   \n",
       "min                      50.000000             2.500000   \n",
       "25%                     164.000000             4.410000   \n",
       "50%                     275.000000             6.300000   \n",
       "75%                     386.000000             8.120000   \n",
       "max                     499.000000            10.000000   \n",
       "\n",
       "       Operating_Hours_Per_Day  Number_of_Employees  Marketing_Spend_Per_Day  \\\n",
       "count              2000.000000          2000.000000              2000.000000   \n",
       "mean                 11.667000             7.947000               252.614160   \n",
       "std                   3.438608             3.742218               141.136004   \n",
       "min                   6.000000             2.000000                10.120000   \n",
       "25%                   9.000000             5.000000               130.125000   \n",
       "50%                  12.000000             8.000000               250.995000   \n",
       "75%                  15.000000            11.000000               375.352500   \n",
       "max                  17.000000            14.000000               499.740000   \n",
       "\n",
       "       Location_Foot_Traffic  Daily_Revenue  \n",
       "count            2000.000000    2000.000000  \n",
       "mean              534.893500    1917.325940  \n",
       "std               271.662295     976.202746  \n",
       "min                50.000000     -58.950000  \n",
       "25%               302.000000    1140.085000  \n",
       "50%               540.000000    1770.775000  \n",
       "75%               767.000000    2530.455000  \n",
       "max               999.000000    5114.600000  "
      ]
     },
     "execution_count": 73,
     "metadata": {},
     "output_type": "execute_result"
    }
   ],
   "source": [
    "coffee.describe()"
   ]
  },
  {
   "cell_type": "markdown",
   "metadata": {},
   "source": [
    "I am choosing a target variable of Daily Revanue, and using operating hours, number of employees, and marketing per day as predictors. "
   ]
  },
  {
   "cell_type": "markdown",
   "metadata": {},
   "source": [
    "### 3. Split the sample into an ~80% training set and a ~20% test set."
   ]
  },
  {
   "cell_type": "code",
   "execution_count": 79,
   "metadata": {},
   "outputs": [],
   "source": [
    "y = coffee[\"Daily_Revenue\"]\n",
    "X = coffee[['Marketing_Spend_Per_Day', 'Number_of_Employees', 'Operating_Hours_Per_Day']]\n",
    "\n",
    "X_train, X_test, y_train, y_test = train_test_split(X, y, test_size=0.2, random_state=42)"
   ]
  },
  {
   "cell_type": "markdown",
   "metadata": {},
   "source": [
    "### 4. Run a few regressions of your target/outcome variable on a variety of features/predictors. Compute the RMSE on the test set."
   ]
  },
  {
   "cell_type": "code",
   "execution_count": 82,
   "metadata": {},
   "outputs": [
    {
     "name": "stdout",
     "output_type": "stream",
     "text": [
      "935.6627864885508\n"
     ]
    }
   ],
   "source": [
    "## using all features\n",
    "model = LinearRegression()\n",
    "\n",
    "model.fit(X_train, y_train)\n",
    "\n",
    "y_pred = model.predict(X_test)\n",
    "\n",
    "rmse = np.sqrt(mean_squared_error(y_test, y_pred))\n",
    "\n",
    "print(rmse)"
   ]
  },
  {
   "cell_type": "code",
   "execution_count": 86,
   "metadata": {},
   "outputs": [
    {
     "name": "stdout",
     "output_type": "stream",
     "text": [
      "934.3977792915706\n"
     ]
    }
   ],
   "source": [
    "## Using just 2 features \n",
    "\n",
    "model = LinearRegression()\n",
    "\n",
    "X_train1 = X_train[['Marketing_Spend_Per_Day', 'Number_of_Employees']]\n",
    "X_test1 = X_test[['Marketing_Spend_Per_Day', 'Number_of_Employees']]\n",
    "\n",
    "\n",
    "model.fit(X_train1, y_train)\n",
    "\n",
    "y_pred = model.predict(X_test1)\n",
    "\n",
    "rmse = np.sqrt(mean_squared_error(y_test, y_pred))\n",
    "\n",
    "print(rmse)"
   ]
  },
  {
   "cell_type": "code",
   "execution_count": 85,
   "metadata": {},
   "outputs": [
    {
     "name": "stdout",
     "output_type": "stream",
     "text": [
      "934.2743322875918\n"
     ]
    }
   ],
   "source": [
    "## Using just 2 features \n",
    "\n",
    "model = LinearRegression()\n",
    "\n",
    "X_train1 = X_train[['Marketing_Spend_Per_Day', 'Operating_Hours_Per_Day']]\n",
    "X_test1 = X_test[['Marketing_Spend_Per_Day', 'Operating_Hours_Per_Day']]\n",
    "\n",
    "\n",
    "model.fit(X_train1, y_train)\n",
    "\n",
    "y_pred = model.predict(X_test1)\n",
    "\n",
    "rmse = np.sqrt(mean_squared_error(y_test, y_pred))\n",
    "\n",
    "print(rmse)"
   ]
  },
  {
   "cell_type": "code",
   "execution_count": 84,
   "metadata": {},
   "outputs": [
    {
     "name": "stdout",
     "output_type": "stream",
     "text": [
      "969.0615657554176\n"
     ]
    }
   ],
   "source": [
    "## Using just 2 features \n",
    "\n",
    "model = LinearRegression()\n",
    "\n",
    "X_train1 = X_train[['Number_of_Employees', 'Operating_Hours_Per_Day']]\n",
    "X_test1 = X_test[['Number_of_Employees', 'Operating_Hours_Per_Day']]\n",
    "\n",
    "\n",
    "model.fit(X_train1, y_train)\n",
    "\n",
    "y_pred = model.predict(X_test1)\n",
    "\n",
    "rmse = np.sqrt(mean_squared_error(y_test, y_pred))\n",
    "\n",
    "print(rmse)"
   ]
  },
  {
   "cell_type": "markdown",
   "metadata": {},
   "source": [
    "### 5. Which model performed the best, and why?\n",
    "\n",
    "The best model used only Marketing Spend per day and Operating Hours per day.  It seems that those 2 were the most highly correlated variables out of the 3 that I chose to look at.  However, I believe that Marketing spend per day was the best indicator.  Whenever it was used the model got a lower very simular RMSE.  The one model that did not use it got a higher RMSE by more than the other models had differed by. It seems that Number of employees was not the best indication of daily revanue as it produced larger RMSE values when it was included. This may be because employee numbers dont nessesarily mean more revenue.  They are an added labor cost but sometimes help to provide better customer service hence causing more customers.  It is not a good indicator for revanue.  "
   ]
  },
  {
   "cell_type": "markdown",
   "metadata": {},
   "source": [
    "### 6. What did you learn?\n",
    "\n",
    "I learned that sometimes using more factors doesnt nessesarily lead to a better working model.  Some factors/features are much more useful in predicting target varaibles than others.  AS well it helps to do initial exploration of the dataset so that way you know where you are aiming to go. "
   ]
  },
  {
   "cell_type": "markdown",
   "metadata": {},
   "source": [
    "\n"
   ]
  }
 ],
 "metadata": {
  "kernelspec": {
   "display_name": "base",
   "language": "python",
   "name": "python3"
  },
  "language_info": {
   "codemirror_mode": {
    "name": "ipython",
    "version": 3
   },
   "file_extension": ".py",
   "mimetype": "text/x-python",
   "name": "python",
   "nbconvert_exporter": "python",
   "pygments_lexer": "ipython3",
   "version": "3.10.14"
  }
 },
 "nbformat": 4,
 "nbformat_minor": 2
}
